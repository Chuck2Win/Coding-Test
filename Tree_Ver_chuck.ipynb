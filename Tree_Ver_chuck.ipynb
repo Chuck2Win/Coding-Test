{
  "nbformat": 4,
  "nbformat_minor": 0,
  "metadata": {
    "colab": {
      "name": "Tree_Ver_chuck.ipynb",
      "provenance": [],
      "collapsed_sections": [],
      "authorship_tag": "ABX9TyM2ZOLHl2IN968wI/+E12Ub",
      "include_colab_link": true
    },
    "kernelspec": {
      "name": "python3",
      "display_name": "Python 3"
    }
  },
  "cells": [
    {
      "cell_type": "markdown",
      "metadata": {
        "id": "view-in-github",
        "colab_type": "text"
      },
      "source": [
        "<a href=\"https://colab.research.google.com/github/Chuck2Win/Coding-Test/blob/master/Tree_Ver_chuck.ipynb\" target=\"_parent\"><img src=\"https://colab.research.google.com/assets/colab-badge.svg\" alt=\"Open In Colab\"/></a>"
      ]
    },
    {
      "cell_type": "code",
      "metadata": {
        "id": "RRbThwhDq4dk"
      },
      "source": [
        "#tree : 비순환 그래프, 방향성 그래프"
      ],
      "execution_count": null,
      "outputs": []
    },
    {
      "cell_type": "code",
      "metadata": {
        "id": "CEp7kxd2q6lk"
      },
      "source": [
        "# 이진 탐색 트리 : node, branch\n",
        "# branch가 2개, \n",
        "# 탐색이란 말까지 있으면 child의 좌측이 작고\n",
        "# 우측이 큰 것"
      ],
      "execution_count": null,
      "outputs": []
    },
    {
      "cell_type": "code",
      "metadata": {
        "id": "8gD0i6RKrMDN"
      },
      "source": [
        "# 이진탐색트리 만들기\n",
        "# 더블 링크드리스트 활용\n",
        "# 추가 검색 삭제"
      ],
      "execution_count": null,
      "outputs": []
    },
    {
      "cell_type": "code",
      "metadata": {
        "id": "ArQskzfKrYe0"
      },
      "source": [
        "# node\n",
        "class Node:\n",
        "    def __init__(self,value):\n",
        "        self.value = value\n",
        "        self.left = None\n",
        "        self.right = None"
      ],
      "execution_count": 36,
      "outputs": []
    },
    {
      "cell_type": "code",
      "metadata": {
        "id": "-yK8OClHsWoJ"
      },
      "source": [
        "class NodeMgmt:\n",
        "    def __init__(self, value):\n",
        "        self.head = Node(value)\n",
        "    def add(self,value):\n",
        "        curr = self.head\n",
        "        while curr:\n",
        "            if value<curr.value:\n",
        "                if curr.left is None:\n",
        "                    curr.left = Node(value)\n",
        "                    break\n",
        "                curr=curr.left\n",
        "            else:\n",
        "                if curr.right is None:\n",
        "                    curr.right = Node(value)\n",
        "                    break\n",
        "                curr=curr.right\n",
        "\n",
        "    def search(self,value):\n",
        "        curr = self.head\n",
        "        while True:\n",
        "            if curr is not None:\n",
        "                if value == curr.value:\n",
        "                    return True\n",
        "                elif value<curr.value:\n",
        "                    curr=curr.left\n",
        "                else:\n",
        "                    curr=curr.right\n",
        "            else:\n",
        "                return False\n",
        "    # 이진탐색 트리 \n",
        "# 1. child가 1개일 경우\n",
        "    def delete(self,value):\n",
        "        # search해서 있을 경우에만 실시\n",
        "        if self.search(value):\n",
        "            curr = self.head\n",
        "            parent = self.head\n",
        "            while True:\n",
        "                if curr:\n",
        "                    if value==curr.value:\n",
        "                        # case 1. child 없을 경우\n",
        "                        if (curr.left is None) and (curr.right is None):\n",
        "                            # parent의 left인 경우\n",
        "                            if curr == parent.left:\n",
        "                                parent.left = None\n",
        "                            else:\n",
        "                                parent.right = None\n",
        "                            del curr\n",
        "                            break\n",
        "                            \n",
        "                        # case 2. child가 하나 일 경우, 오른쪽인 경우\n",
        "                        elif (curr.left is None) and (curr.right is not None):\n",
        "                            # parent의 left인 경우\n",
        "                            if curr == parent.left:\n",
        "                                parent.left = curr.right\n",
        "                                \n",
        "                            else:\n",
        "                                parent.right = curr.right\n",
        "                            del curr\n",
        "                            break\n",
        "                        # 왼쪽인 경우\n",
        "                        elif (curr.left is not None) and (curr.right is None):\n",
        "                            # parent의 left인 경우\n",
        "                            if curr == parent.left:\n",
        "                                parent.left = curr.left\n",
        "                                \n",
        "                            else:\n",
        "                                parent.right = curr.left\n",
        "                            del curr\n",
        "                            break\n",
        "                        # child가 두 명인 경우\n",
        "                        else:\n",
        "                        # 오른 쪽 child의 자손들 중에서 가장 작은 값(가장 왼쪽)로 대체\n",
        "                            semi = curr.right\n",
        "                            curr1 = curr.right\n",
        "                            while curr1.left:\n",
        "                                semi = curr1\n",
        "                                curr1 = curr1.left\n",
        "                            if curr1.right:\n",
        "                                semi.left = curr1.right\n",
        "                                curr1.right = None\n",
        "                            curr1.left = curr.left\n",
        "                            if curr == parent.left:\n",
        "                                parent.left = curr1\n",
        "                            else:\n",
        "                                parent.right = curr1\n",
        "                            del curr\n",
        "                            break\n",
        "                        \n",
        "                    elif value<curr.value:\n",
        "                        parent = curr\n",
        "                        curr = curr.left\n",
        "                    else: \n",
        "                        parent = curr\n",
        "                        curr = curr.right\n",
        "        # 아닐 경우에는 제거\n",
        "        else:\n",
        "            return 'There is no such value'       "
      ],
      "execution_count": 101,
      "outputs": []
    },
    {
      "cell_type": "code",
      "metadata": {
        "id": "pfaGa_ZQ-G2j"
      },
      "source": [
        "a=NodeMgmt(10)\r\n",
        "a.add(12)\r\n",
        "a.add(14)\r\n",
        "a.add(9)\r\n",
        "a.add(11)\r\n",
        "a.delete(9)"
      ],
      "execution_count": 102,
      "outputs": []
    },
    {
      "cell_type": "code",
      "metadata": {
        "id": "jB3QZWSWGNGE"
      },
      "source": [
        "a=NodeMgmt(10)\r\n",
        "a.add(12)\r\n",
        "a.add(14)\r\n",
        "a.add(9)\r\n",
        "a.delete(12)"
      ],
      "execution_count": 89,
      "outputs": []
    },
    {
      "cell_type": "code",
      "metadata": {
        "id": "NpSBLbkAGWUU"
      },
      "source": [
        "a=NodeMgmt(10)\r\n",
        "a.add(12)\r\n",
        "a.add(14)\r\n",
        "a.add(9)\r\n",
        "a.add(11)\r\n",
        "a.delete(12)"
      ],
      "execution_count": 103,
      "outputs": []
    },
    {
      "cell_type": "code",
      "metadata": {
        "id": "JErVNk9hG6s3"
      },
      "source": [
        ""
      ],
      "execution_count": null,
      "outputs": []
    },
    {
      "cell_type": "code",
      "metadata": {
        "colab": {
          "base_uri": "https://localhost:8080/"
        },
        "id": "KMRqaLLbGq22",
        "outputId": "4102ca1d-050b-4ba5-e203-822c3851e552"
      },
      "source": [
        "print(a.head.value)\r\n",
        "print(a.head.left.value)\r\n",
        "print(a.head.right.value)\r\n",
        "print(a.head.right.left.value)"
      ],
      "execution_count": 105,
      "outputs": [
        {
          "output_type": "stream",
          "text": [
            "10\n",
            "9\n",
            "14\n",
            "11\n"
          ],
          "name": "stdout"
        }
      ]
    }
  ]
}