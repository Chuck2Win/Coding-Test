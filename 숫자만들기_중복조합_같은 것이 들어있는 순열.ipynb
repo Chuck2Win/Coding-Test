{
 "cells": [
  {
   "cell_type": "markdown",
   "metadata": {},
   "source": [
    "# 숫자 만들기  \n",
    "## 같은 것이 들어있는 순열"
   ]
  },
  {
   "cell_type": "markdown",
   "metadata": {},
   "source": [
    "# 순열 -> dfs"
   ]
  },
  {
   "cell_type": "code",
   "execution_count": 9,
   "metadata": {},
   "outputs": [],
   "source": [
    "def dfs_perm(array,r):\n",
    "    visited=[]\n",
    "    ids = [_ for _ in range(len(array))]\n",
    "    next_visit=[[_] for _ in range(len(array))]\n",
    "    while next_visit:\n",
    "        next = next_visit.pop()\n",
    "        if len(next)==2:\n",
    "            result = []\n",
    "            for i in next:\n",
    "                result.append(array[i])\n",
    "            visited.append(result)\n",
    "        else:\n",
    "            for j in range(len(array)):\n",
    "                if j not in next:\n",
    "                    next_visit.append(next+[j])\n",
    "    return visited"
   ]
  },
  {
   "cell_type": "code",
   "execution_count": 10,
   "metadata": {},
   "outputs": [
    {
     "data": {
      "text/plain": [
       "[[4, 3],\n",
       " [4, 2],\n",
       " [4, 1],\n",
       " [3, 4],\n",
       " [3, 2],\n",
       " [3, 1],\n",
       " [2, 4],\n",
       " [2, 3],\n",
       " [2, 1],\n",
       " [1, 4],\n",
       " [1, 3],\n",
       " [1, 2]]"
      ]
     },
     "execution_count": 10,
     "metadata": {},
     "output_type": "execute_result"
    }
   ],
   "source": [
    "dfs_perm([1,2,3,4],2)"
   ]
  },
  {
   "cell_type": "markdown",
   "metadata": {},
   "source": [
    "# 같은 것이 들어있는 순열"
   ]
  },
  {
   "cell_type": "markdown",
   "metadata": {},
   "source": [
    "## dfs에서 재귀형으로 풀기(type2)  \n",
    "dfs(current, graph) \n",
    "## example\n",
    "++-/  \n",
    "++/-  \n",
    "...  \n",
    "/-++  "
   ]
  },
  {
   "cell_type": "code",
   "execution_count": 67,
   "metadata": {},
   "outputs": [
    {
     "name": "stdout",
     "output_type": "stream",
     "text": [
      "1\n",
      "12\n",
      "2 1 6 2\n",
      "2 3 7 9 4 5 1 9 2 5 6 4 \n",
      "#1 701696\n"
     ]
    }
   ],
   "source": [
    "# SWEA\n",
    "# 숫자 만들기\n",
    "# dfs type2 - 재귀\n",
    "def dfs_type2(current,graph):\n",
    "    if sum(graph)==0:\n",
    "        final.append(current)\n",
    "    else:\n",
    "        for _,i in enumerate(graph):\n",
    "            if i:\n",
    "                new_graph = graph[:] # 얕은 복사 1차원 가능\n",
    "                new_graph[_]=i-1\n",
    "                dfs_type2(current+[_],new_graph)\n",
    "def score(sbs,numbers):\n",
    "    s = numbers[0]\n",
    "    for _,i in enumerate(sbs):\n",
    "        if i==0:\n",
    "            s += numbers[_+1]\n",
    "        elif i==1:\n",
    "            s -= numbers[_+1]\n",
    "        elif i==2:\n",
    "            s*=numbers[_+1]\n",
    "        else:\n",
    "            s=int(s/numbers[_+1])\n",
    "    return s\n",
    "def solution(graph,numbers):\n",
    "    global final\n",
    "    final = []\n",
    "    current = []\n",
    "    dfs_type2(current,graph)\n",
    "    Result = []\n",
    "    for sbs in final:\n",
    "        Result.append(score(sbs,numbers))\n",
    "    return max(Result)-min(Result)\n",
    "T = int(input())\n",
    "for i in range(T):\n",
    "    N = int(input())\n",
    "    graph = list(map(int,input().split()))\n",
    "    numbers = list(map(int,input().split()))\n",
    "    print('#%d %d'%(i+1,solution(graph,numbers)))"
   ]
  },
  {
   "cell_type": "markdown",
   "metadata": {},
   "source": [
    "# 같은 것이 들어있는 순열 type1\n",
    "## 단일화 시킴\n",
    "## 재귀를 활용 안하는 방향으로"
   ]
  },
  {
   "cell_type": "code",
   "execution_count": 74,
   "metadata": {},
   "outputs": [
    {
     "data": {
      "text/plain": [
       "13860"
      ]
     },
     "execution_count": 74,
     "metadata": {},
     "output_type": "execute_result"
    }
   ],
   "source": [
    "len(dfs_type1(graph))"
   ]
  },
  {
   "cell_type": "code",
   "execution_count": 75,
   "metadata": {},
   "outputs": [],
   "source": [
    "def factorial(n):\n",
    "    s=1\n",
    "    for i in range(1,n+1):\n",
    "        s*=i\n",
    "    return s"
   ]
  },
  {
   "cell_type": "code",
   "execution_count": 72,
   "metadata": {},
   "outputs": [],
   "source": [
    "# [a,a,b,b] -> 4!/2!*2!\n",
    "# initial_graph = [2,1,6,2]\n",
    "def dfs_type1(graph):\n",
    "    visited=[]\n",
    "    next_visit=[]\n",
    "    for _,i in enumerate(graph):\n",
    "        if i>0:\n",
    "            next_graph = graph[:]\n",
    "            next_graph[_]=i-1\n",
    "            next_visit.append([[_],next_graph])\n",
    "    while next_visit:\n",
    "        next = next_visit.pop()\n",
    "        if sum(next[1])==0:\n",
    "            visited.append(next[0])\n",
    "        else:\n",
    "            for _,i in enumerate(next[1]):\n",
    "                if i>0:\n",
    "                    next_graph = next[1][:]\n",
    "                    next_graph[_]=i-1\n",
    "                    next_visit.append([next[0]+[_],next_graph])\n",
    "    return visited"
   ]
  },
  {
   "cell_type": "markdown",
   "metadata": {},
   "source": [
    "# 중복 조합\n",
    "## nHr = n+r-1Cr"
   ]
  },
  {
   "cell_type": "code",
   "execution_count": null,
   "metadata": {},
   "outputs": [],
   "source": [
    "array = [1,2,3]\n",
    "r = 3"
   ]
  },
  {
   "cell_type": "code",
   "execution_count": 77,
   "metadata": {},
   "outputs": [],
   "source": [
    "def dfs_comb_same(array,r):\n",
    "    '''\n",
    "    array = [1,2,3]\n",
    "    r=2\n",
    "    ->\n",
    "    array = [1,2,3,4]\n",
    "    r=2\n",
    "    -> 4C2\n",
    "    ->[1,2]..[3,4]\n",
    "    재 변환\n",
    "    -> [1-0,2-1],..[3-0,4-1]\n",
    "    \n",
    "    '''\n",
    "    idx = [id for id in range(len(array)+r-1)]\n",
    "    M = len(idx)\n",
    "    visited=[]\n",
    "    next_visit=[[_] for _ in range(M-r+1)]\n",
    "    while next_visit:\n",
    "        next = next_visit.pop()\n",
    "        if len(next)==r:\n",
    "            visited.append(next)\n",
    "        else:\n",
    "            for i in range(next[-1]+1,M):\n",
    "                if i not in next:\n",
    "                    next_visit.append(next+[i])\n",
    "    # 중복 조합으로 변환\n",
    "    Result = []\n",
    "    for i in visited:\n",
    "        result = []\n",
    "        for _,j in enumerate(i):\n",
    "            result.append(array[j-_])\n",
    "        Result.append(result)\n",
    "    \n",
    "    \n",
    "    return Result\n",
    "    "
   ]
  },
  {
   "cell_type": "code",
   "execution_count": 78,
   "metadata": {},
   "outputs": [
    {
     "data": {
      "text/plain": [
       "[[4, 4, 4],\n",
       " [3, 4, 4],\n",
       " [3, 3, 4],\n",
       " [3, 3, 3],\n",
       " [2, 4, 4],\n",
       " [2, 3, 4],\n",
       " [2, 3, 3],\n",
       " [2, 2, 4],\n",
       " [2, 2, 3],\n",
       " [2, 2, 2],\n",
       " [1, 4, 4],\n",
       " [1, 3, 4],\n",
       " [1, 3, 3],\n",
       " [1, 2, 4],\n",
       " [1, 2, 3],\n",
       " [1, 2, 2],\n",
       " [1, 1, 4],\n",
       " [1, 1, 3],\n",
       " [1, 1, 2],\n",
       " [1, 1, 1]]"
      ]
     },
     "execution_count": 78,
     "metadata": {},
     "output_type": "execute_result"
    }
   ],
   "source": [
    "dfs_comb_same([1,2,3,4],3)"
   ]
  }
 ],
 "metadata": {
  "kernelspec": {
   "display_name": "Python 3",
   "language": "python",
   "name": "python3"
  },
  "language_info": {
   "codemirror_mode": {
    "name": "ipython",
    "version": 3
   },
   "file_extension": ".py",
   "mimetype": "text/x-python",
   "name": "python",
   "nbconvert_exporter": "python",
   "pygments_lexer": "ipython3",
   "version": "3.7.4"
  }
 },
 "nbformat": 4,
 "nbformat_minor": 2
}
