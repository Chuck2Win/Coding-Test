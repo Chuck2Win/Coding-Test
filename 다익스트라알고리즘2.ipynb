{
  "nbformat": 4,
  "nbformat_minor": 0,
  "metadata": {
    "colab": {
      "name": "다익스트라알고리즘2.ipynb",
      "provenance": [],
      "collapsed_sections": [],
      "authorship_tag": "ABX9TyNV11/8sYTxn4z2CsiXOyjH",
      "include_colab_link": true
    },
    "kernelspec": {
      "name": "python3",
      "display_name": "Python 3"
    }
  },
  "cells": [
    {
      "cell_type": "markdown",
      "metadata": {
        "id": "view-in-github",
        "colab_type": "text"
      },
      "source": [
        "<a href=\"https://colab.research.google.com/github/Chuck2Win/Coding-Test/blob/master/%EB%8B%A4%EC%9D%B5%EC%8A%A4%ED%8A%B8%EB%9D%BC%EC%95%8C%EA%B3%A0%EB%A6%AC%EC%A6%982.ipynb\" target=\"_parent\"><img src=\"https://colab.research.google.com/assets/colab-badge.svg\" alt=\"Open In Colab\"/></a>"
      ]
    },
    {
      "cell_type": "code",
      "metadata": {
        "id": "cFOZ9pnFiagT",
        "colab_type": "code",
        "colab": {}
      },
      "source": [
        "data={'a':{'b':8,'c':1,'d':2},'b':{},'c':{'b':5,'d':2},'d':{'e':3,'f':5},'e':{'f':1},'f':{'a':5}}"
      ],
      "execution_count": 0,
      "outputs": []
    },
    {
      "cell_type": "code",
      "metadata": {
        "id": "Yv9MmrLxjpgA",
        "colab_type": "code",
        "colab": {}
      },
      "source": [
        "다익스트라 알고리즘 (수정 예정)\n",
        "출발지점에서 다른 모든 지점까지의 최단거리 구하는 알고리즘\n",
        "min heap-queue을 활용할 예정\n",
        "알고리즘 순서\n",
        "1. list - 모든 점을 -inf로 구성\n",
        "2. queue에서 dequeue된 값 (좌표,거리)를 기준으로 current distance\n",
        "   + adjacent_weight인\n",
        "   거리가 list상의 값보다 작으면 list값 갱신하고 해당\n",
        "   (좌표,거리)를 queue에 enqueue\n",
        "   ex. 현재 위치 'c' dequeue=('b':5)\n",
        "       list에서 {'a':0,'b':10,'식':3}\n",
        "       이면 list의 현재값(3)+dequeue의 값(5)가 10보다 작으니 갱신\n",
        "3. queue에 아무것도 없을 때까지 진행\n",
        "break rule\n",
        "cf. bfs 방식"
      ],
      "execution_count": 0,
      "outputs": []
    },
    {
      "cell_type": "code",
      "metadata": {
        "id": "ywA-FXn4ljlD",
        "colab_type": "code",
        "colab": {}
      },
      "source": [
        "import heapq\n",
        "def dijkstra(graph,start):\n",
        "    distance={i:float('inf') for i in graph}\n",
        "    # 초기화\n",
        "    \n",
        "    queue=[(0,start)]\n",
        "    \n",
        "    current=start\n",
        "    while queue:\n",
        "        current_dist,current_point=heapq.heappop(queue)\n",
        "       \n",
        "        for adjacent,weight in graph[current_point].items():\n",
        "            dist=current_dist+weight\n",
        "            if dist<distance[adjacent]:\n",
        "                heapq.heappush(queue,(dist,adjacent))\n",
        "                distance[adjacent]=dist\n",
        "    return distance"
      ],
      "execution_count": 0,
      "outputs": []
    },
    {
      "cell_type": "code",
      "metadata": {
        "id": "h8yJke4Mj5Kk",
        "colab_type": "code",
        "outputId": "541f3db6-46b6-42cd-a441-be58865bc644",
        "colab": {
          "base_uri": "https://localhost:8080/",
          "height": 54
        }
      },
      "source": [
        "dijkstra(data,'a')"
      ],
      "execution_count": 7,
      "outputs": [
        {
          "output_type": "execute_result",
          "data": {
            "text/plain": [
              "{'a': 11, 'b': 6, 'c': 1, 'd': 2, 'e': 5, 'f': 6}"
            ]
          },
          "metadata": {
            "tags": []
          },
          "execution_count": 7
        }
      ]
    }
  ]
}