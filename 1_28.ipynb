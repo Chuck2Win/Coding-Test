{
  "nbformat": 4,
  "nbformat_minor": 0,
  "metadata": {
    "colab": {
      "name": "1/28.ipynb",
      "provenance": [],
      "collapsed_sections": [],
      "authorship_tag": "ABX9TyMroF656gAngXYRml55Jg44",
      "include_colab_link": true
    },
    "kernelspec": {
      "name": "python3",
      "display_name": "Python 3"
    }
  },
  "cells": [
    {
      "cell_type": "markdown",
      "metadata": {
        "id": "view-in-github",
        "colab_type": "text"
      },
      "source": [
        "<a href=\"https://colab.research.google.com/github/Chuck2Win/Coding-Test/blob/master/1_28.ipynb\" target=\"_parent\"><img src=\"https://colab.research.google.com/assets/colab-badge.svg\" alt=\"Open In Colab\"/></a>"
      ]
    },
    {
      "cell_type": "code",
      "metadata": {
        "id": "mgpkOl7VMTlJ"
      },
      "source": [
        "# 1. 음계\r\n",
        "# 자료 구조 : 배열\r\n",
        "# 알고리즘 : 순열, 반복문"
      ],
      "execution_count": null,
      "outputs": []
    },
    {
      "cell_type": "code",
      "metadata": {
        "id": "md6js7yMOJ0l"
      },
      "source": [
        "def solution_1(sequence):\r\n",
        "    ascend = True\r\n",
        "    descend = True\r\n",
        "    \r\n",
        "    for i in range(1,len(sequence)):\r\n",
        "        if sequence[i-1]<sequence[i]:\r\n",
        "            ascend = ascend*True\r\n",
        "            descend = descend*False\r\n",
        "        else:\r\n",
        "            descend = descend*True\r\n",
        "            ascend = ascend*False\r\n",
        "    if ascend:\r\n",
        "        return 'ascending'\r\n",
        "    elif descend:\r\n",
        "        return 'descending'\r\n",
        "    else:\r\n",
        "        return 'mixed'"
      ],
      "execution_count": 3,
      "outputs": []
    },
    {
      "cell_type": "code",
      "metadata": {
        "colab": {
          "base_uri": "https://localhost:8080/",
          "height": 35
        },
        "id": "1HpvDf3EPScw",
        "outputId": "dc1f7bc7-037b-42b8-d197-728f86b6a15c"
      },
      "source": [
        "# 2. 블랙잭\r\n",
        "## 자료 구조 : 배열, ## 알고리즘 : 완전탐색-> O(N^3)"
      ],
      "execution_count": 6,
      "outputs": [
        {
          "output_type": "execute_result",
          "data": {
            "application/vnd.google.colaboratory.intrinsic+json": {
              "type": "string"
            },
            "text/plain": [
              "'descending'"
            ]
          },
          "metadata": {
            "tags": []
          },
          "execution_count": 6
        }
      ]
    },
    {
      "cell_type": "code",
      "metadata": {
        "id": "CZ3la3a_Qx6x"
      },
      "source": [
        "def solution_2(n,m,cards):\r\n",
        "    result = []\r\n",
        "    for i in range(len(cards)-2):\r\n",
        "        for j in range(i+1,len(cards)-1):\r\n",
        "            for k in range(j+1,len(cards)):\r\n",
        "                result.append(cards[i]+cards[j]+cards[k])\r\n",
        "    result = [i for i in result if i<=m]\r\n",
        "    return min(result, key = lambda i : abs(m-i))\r\n",
        "    "
      ],
      "execution_count": 20,
      "outputs": []
    }
  ]
}