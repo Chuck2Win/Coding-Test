{
  "nbformat": 4,
  "nbformat_minor": 0,
  "metadata": {
    "colab": {
      "name": "1/28.ipynb",
      "provenance": [],
      "collapsed_sections": []
    },
    "kernelspec": {
      "name": "python3",
      "display_name": "Python 3"
    }
  },
  "cells": [
    {
      "cell_type": "code",
      "metadata": {
        "id": "mgpkOl7VMTlJ"
      },
      "source": [
        "# 1. 음계\r\n",
        "# 자료 구조 : 배열\r\n",
        "# 알고리즘 : 순열, 반복문"
      ],
      "execution_count": null,
      "outputs": []
    },
    {
      "cell_type": "code",
      "metadata": {
        "id": "md6js7yMOJ0l"
      },
      "source": [
        "def solution_1(sequence):\r\n",
        "    ascend = True\r\n",
        "    descend = True\r\n",
        "    \r\n",
        "    for i in range(1,len(sequence)):\r\n",
        "        if sequence[i-1]<sequence[i]:\r\n",
        "            ascend = ascend*True\r\n",
        "            descend = descend*False\r\n",
        "        else:\r\n",
        "            descend = descend*True\r\n",
        "            ascend = ascend*False\r\n",
        "    if ascend:\r\n",
        "        return 'ascending'\r\n",
        "    elif descend:\r\n",
        "        return 'descending'\r\n",
        "    else:\r\n",
        "        return 'mixed'"
      ],
      "execution_count": null,
      "outputs": []
    },
    {
      "cell_type": "code",
      "metadata": {
        "colab": {
          "base_uri": "https://localhost:8080/",
          "height": 35
        },
        "id": "1HpvDf3EPScw",
        "outputId": "dc1f7bc7-037b-42b8-d197-728f86b6a15c"
      },
      "source": [
        "# 2. 블랙잭\r\n",
        "## 자료 구조 : 배열, ## 알고리즘 : 완전탐색-> O(N^3)"
      ],
      "execution_count": null,
      "outputs": [
        {
          "output_type": "execute_result",
          "data": {
            "application/vnd.google.colaboratory.intrinsic+json": {
              "type": "string"
            },
            "text/plain": [
              "'descending'"
            ]
          },
          "metadata": {
            "tags": []
          },
          "execution_count": 6
        }
      ]
    },
    {
      "cell_type": "code",
      "metadata": {
        "id": "CZ3la3a_Qx6x"
      },
      "source": [
        "def solution_2(n,m,cards):\r\n",
        "    result = []\r\n",
        "    for i in range(len(cards)-2):\r\n",
        "        for j in range(i+1,len(cards)-1):\r\n",
        "            for k in range(j+1,len(cards)):\r\n",
        "                result.append(cards[i]+cards[j]+cards[k])\r\n",
        "    result = [i for i in result if i<=m]\r\n",
        "    return min(result, key = lambda i : abs(m-i))\r\n",
        "    "
      ],
      "execution_count": null,
      "outputs": []
    },
    {
      "cell_type": "code",
      "metadata": {
        "id": "q8XgQ9RZyhWn"
      },
      "source": [
        "# 3. 스택 수열\r\n",
        "# https://www.acmicpc.net/problem/1874"
      ],
      "execution_count": null,
      "outputs": []
    },
    {
      "cell_type": "code",
      "metadata": {
        "colab": {
          "base_uri": "https://localhost:8080/",
          "height": 55
        },
        "id": "9WcxwL1727Jx",
        "outputId": "640f61d4-590f-4c5a-b4e9-772ad85bf9fb"
      },
      "source": [
        "input()"
      ],
      "execution_count": 1,
      "outputs": [
        {
          "output_type": "stream",
          "text": [
            "3\n"
          ],
          "name": "stdout"
        },
        {
          "output_type": "execute_result",
          "data": {
            "application/vnd.google.colaboratory.intrinsic+json": {
              "type": "string"
            },
            "text/plain": [
              "'3'"
            ]
          },
          "metadata": {
            "tags": []
          },
          "execution_count": 1
        }
      ]
    },
    {
      "cell_type": "code",
      "metadata": {
        "id": "iAClawkb2zf6"
      },
      "source": [
        "def solution_3(n,array):\r\n",
        "    next1 = array.pop(0) # 얘는 queue 느낌으로\r\n",
        "    stack=[_ for _ in range(1,next1+1)]\r\n",
        "    result=['+']*next1\r\n",
        "    while array:\r\n",
        "        next2 = stack.pop()\r\n",
        "        if next2 == next1:\r\n",
        "            result.append('-')\r\n",
        "        else:\r\n",
        "            return 'No'\r\n",
        "        next1 = array.pop(0)\r\n",
        "        if next1 not in stack:\r\n",
        "            s = result.count('+')\r\n",
        "            if next1-s<0:\r\n",
        "                return 'No'\r\n",
        "            else:\r\n",
        "                stack.extend([_ for _ in range(s+1,s+next1-s+1)])# 3,4\r\n",
        "                result.extend(['+']*(next1-s))\r\n",
        "    return result"
      ],
      "execution_count": 16,
      "outputs": []
    },
    {
      "cell_type": "code",
      "metadata": {
        "colab": {
          "base_uri": "https://localhost:8080/"
        },
        "id": "fVb_dx-jA8yT",
        "outputId": "7d8079cc-d3d5-4926-b08a-fe7679375624"
      },
      "source": [
        "solution_3(8,[4,3,6,8,7,5,2,1])"
      ],
      "execution_count": 19,
      "outputs": [
        {
          "output_type": "execute_result",
          "data": {
            "text/plain": [
              "['+', '+', '+', '+', '-', '-', '+', '+', '-', '+', '+', '-', '-', '-', '-']"
            ]
          },
          "metadata": {
            "tags": []
          },
          "execution_count": 19
        }
      ]
    },
    {
      "cell_type": "code",
      "metadata": {
        "colab": {
          "base_uri": "https://localhost:8080/",
          "height": 36
        },
        "id": "slggqOSCGPFn",
        "outputId": "e1a5e219-e8fb-4b4b-8059-c26044b41fed"
      },
      "source": [
        "solution_3(5,[1,2,5,3,4])"
      ],
      "execution_count": 20,
      "outputs": [
        {
          "output_type": "execute_result",
          "data": {
            "application/vnd.google.colaboratory.intrinsic+json": {
              "type": "string"
            },
            "text/plain": [
              "'No'"
            ]
          },
          "metadata": {
            "tags": []
          },
          "execution_count": 20
        }
      ]
    },
    {
      "cell_type": "code",
      "metadata": {
        "id": "ARhdK1tl0tz-"
      },
      "source": [
        "# 4. 프린터\r\n",
        "# "
      ],
      "execution_count": null,
      "outputs": []
    }
  ]
}