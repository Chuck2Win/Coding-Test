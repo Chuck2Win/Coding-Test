{
 "cells": [
  {
   "cell_type": "markdown",
   "metadata": {},
   "source": [
    "# 백준 1495 기타리스트"
   ]
  },
  {
   "cell_type": "code",
   "execution_count": null,
   "metadata": {},
   "outputs": [],
   "source": [
    "# input\n",
    "N,S,M = map(int,input().split())\n",
    "V = list(map(int,input().split()))"
   ]
  },
  {
   "cell_type": "markdown",
   "metadata": {},
   "source": [
    "## 시간초과"
   ]
  },
  {
   "cell_type": "code",
   "execution_count": null,
   "metadata": {},
   "outputs": [],
   "source": [
    "# 접근 1 back tracking(dfs)\n",
    "from collections import deque\n",
    "def dfs(S,V,N,M):\n",
    "    value = -1\n",
    "    #visited=deque()\n",
    "    next_visit=deque([[S]]) # stack\n",
    "     # queue\n",
    "    while next_visit:\n",
    "        #print(next_visit)\n",
    "        next = next_visit.pop()\n",
    "        \n",
    "        if len(next)==(N+1):\n",
    "            #visited.append(next)\n",
    "            if next[-1]>value:\n",
    "                value = next[-1]\n",
    "        else:\n",
    "            vi = V[len(next)-1]\n",
    "            # 조건(prunning)\n",
    "            if 0<=next[-1]+vi<=M:\n",
    "                next_visit.append(next+[next[-1]+vi])\n",
    "            if 0<=next[-1]-vi<=M:\n",
    "                next_visit.append(next+[next[-1]-vi])\n",
    "    return value#,visited"
   ]
  },
  {
   "cell_type": "code",
   "execution_count": null,
   "metadata": {},
   "outputs": [],
   "source": [
    "dfs(S,V,N,M)"
   ]
  },
  {
   "cell_type": "code",
   "execution_count": null,
   "metadata": {},
   "outputs": [],
   "source": [
    "N,S,M = map(int,input().split())\n",
    "V = list(map(int,input().split()))\n"
   ]
  },
  {
   "cell_type": "markdown",
   "metadata": {},
   "source": [
    "##  DP로 완..."
   ]
  },
  {
   "cell_type": "code",
   "execution_count": null,
   "metadata": {},
   "outputs": [],
   "source": [
    "def solution(N,S,M,V):\n",
    "    table = [[0 for _ in range(M+1)] for _ in range(N+1)]\n",
    "    table[0][S]=1\n",
    "    for i in range(0,N):\n",
    "        for j in range(M+1):\n",
    "            if table[i][j]:\n",
    "                if 0<=j-V[i]<=M:\n",
    "                    table[i+1][j-V[i]]=1\n",
    "                if 0<=j+V[i]<=M:\n",
    "                    table[i+1][j+V[i]]=1\n",
    "    print(table)\n",
    "    for j in range(M,-1,-1):\n",
    "        if table[-1][j]==1:\n",
    "            return j\n",
    "    return -1\n",
    "    "
   ]
  },
  {
   "cell_type": "markdown",
   "metadata": {},
   "source": [
    "# 백준 3055 탈출\n",
    "## BFS\n",
    "### 메모리 초과"
   ]
  },
  {
   "cell_type": "code",
   "execution_count": null,
   "metadata": {},
   "outputs": [],
   "source": [
    "arr = ' '.join(input())"
   ]
  },
  {
   "cell_type": "code",
   "execution_count": null,
   "metadata": {},
   "outputs": [],
   "source": [
    "import copy\n",
    "array = copy.deepcopy(Array)"
   ]
  },
  {
   "cell_type": "code",
   "execution_count": null,
   "metadata": {},
   "outputs": [],
   "source": [
    "Array=copy.deepcopy(array)"
   ]
  },
  {
   "cell_type": "code",
   "execution_count": null,
   "metadata": {},
   "outputs": [],
   "source": [
    "R, C = map(int,input().split())\n",
    "Array = []\n",
    "for i in range(R):\n",
    "    arr = (' '.join(input())).split()\n",
    "    Array.append(arr)"
   ]
  },
  {
   "cell_type": "code",
   "execution_count": null,
   "metadata": {},
   "outputs": [],
   "source": [
    "water=[]\n",
    "for i in range(R):\n",
    "    for j in range(C):\n",
    "        if Array[i][j]=='S':\n",
    "            s=(i,j)\n",
    "            Array[i][j]='.'\n",
    "        elif Array[i][j]=='*':\n",
    "            water.append((i,j))\n",
    "       "
   ]
  },
  {
   "cell_type": "code",
   "execution_count": null,
   "metadata": {},
   "outputs": [],
   "source": [
    "# 물 이동 -> bfs\n",
    "# 1시간\n",
    "def dfs(R,C,Array,s,water):\n",
    "    water = deque(water)\n",
    "    current = deque([s])\n",
    "    t = 0\n",
    "    answer=float('inf')\n",
    "    while current:\n",
    "        t+=1\n",
    "        for _ in range(len(water)):\n",
    "            next = water.popleft()\n",
    "            x,y=next # 행 열\n",
    "            for (dx,dy) in [(1,0),(-1,0),(0,1),(0,-1)]:\n",
    "                new_x,new_y = x+dx,y+dy\n",
    "                if 0<=new_x<R and 0<=new_y<C and Array[new_x][new_y]=='.':\n",
    "                    water.append((new_x,new_y))\n",
    "                    Array[new_x][new_y]='*'\n",
    "        for _ in range(len(current)):\n",
    "            next = current.popleft()\n",
    "            x,y=next # 행 열\n",
    "            for (dx,dy) in [(1,0),(-1,0),(0,1),(0,-1)]:\n",
    "                new_x,new_y = x+dx,y+dy\n",
    "                if 0<=new_x<R and 0<=new_y<C:\n",
    "                    if Array[new_x][new_y]=='.':\n",
    "                        current.append((new_x,new_y))\n",
    "                    elif Array[new_x][new_y]=='D':\n",
    "                        if answer>t:\n",
    "                            answer = t\n",
    "                    \n",
    "                        \n",
    "    if answer:\n",
    "        return answer\n",
    "    else:\n",
    "        return 'KAKTUS'\n",
    "            \n",
    "        "
   ]
  },
  {
   "cell_type": "code",
   "execution_count": null,
   "metadata": {},
   "outputs": [],
   "source": [
    "dfs(R,C,Array,s,water)"
   ]
  },
  {
   "cell_type": "code",
   "execution_count": null,
   "metadata": {},
   "outputs": [],
   "source": [
    "from collections import deque\n",
    "def bfs_dfs(R,C,Array,current):\n",
    "    visited=deque()\n",
    "    next_visit=deque([[current]])\n",
    "    while next_visit:\n",
    "        next = next_visit.pop()\n",
    "        if next==destination:\n",
    "            "
   ]
  },
  {
   "cell_type": "markdown",
   "metadata": {},
   "source": [
    "## Trial 2"
   ]
  },
  {
   "cell_type": "code",
   "execution_count": null,
   "metadata": {},
   "outputs": [],
   "source": [
    "from collections import deque\n",
    "R,C = map(int,input().split())\n",
    "A = []\n",
    "water = deque()\n",
    "start = deque()\n",
    "End = None\n",
    "for i in range(R):\n",
    "    a = input()\n",
    "    arr = []\n",
    "    for j in range(C):\n",
    "        if a[j]=='*':\n",
    "            water.append((i,j))\n",
    "            arr.append(a[j])\n",
    "        elif a[j]=='S':\n",
    "            start.append((i,j))\n",
    "            arr.append('.')\n",
    "        elif a[j]=='D':\n",
    "            End = (i,j)\n",
    "            arr.append(a[j])\n",
    "        else:\n",
    "            arr.append(a[j])\n",
    "    A.append(arr)\n",
    "\n",
    "    "
   ]
  },
  {
   "cell_type": "code",
   "execution_count": null,
   "metadata": {},
   "outputs": [],
   "source": [
    "A"
   ]
  },
  {
   "cell_type": "code",
   "execution_count": null,
   "metadata": {},
   "outputs": [],
   "source": [
    "# 원래 버전\n",
    "def solution():\n",
    "    # bfs 하고 나서 dfs\n",
    "    answer = []\n",
    "    t=0\n",
    "    while start:\n",
    "        t+=1 # 시간 증가\n",
    "        # 물 이동\n",
    "        while water:\n",
    "            for _ in range(len(water)):\n",
    "                next= water.popleft()\n",
    "                r,c = next\n",
    "                for dr,dc in [(1,0),(-1,0),(0,1),(0,-1)]:\n",
    "                    new_r=r+dr\n",
    "                    new_c=c+dc\n",
    "                    if 0<=new_r<R and 0<=new_c<C:\n",
    "                        if A[new_r][new_c]=='.':\n",
    "                            water.append((new_r,new_c)) # 물은 반복이 안생길 것임.\n",
    "        # 고슴도치 이동\n",
    "        for _ in range(len(start)):\n",
    "            # bfs\n",
    "            next = start.popleft() \n",
    "            r,c = next\n",
    "            for dr,dc in [(1,0),(-1,0),(0,1),(0,-1)]:\n",
    "                new_r=r+dr\n",
    "                new_c=c+dc\n",
    "                if 0<=new_r<R and 0<=new_c<C:\n",
    "                    if (new_r,new_c)==End:\n",
    "                        answer.append(t)\n",
    "                    elif A[new_r][new_c]=='.':\n",
    "                        start.append((new_r,new_c))\n",
    "            "
   ]
  },
  {
   "cell_type": "code",
   "execution_count": null,
   "metadata": {},
   "outputs": [],
   "source": [
    "from collections import deque\n",
    "R,C = map(int,input().split())\n",
    "A = []\n",
    "water = deque()\n",
    "start = deque()\n",
    "End = None\n",
    "for i in range(R):\n",
    "    a = input()\n",
    "    arr = []\n",
    "    for j in range(C):\n",
    "        if a[j]=='*':\n",
    "            water.append((i,j))\n",
    "            arr.append(a[j])\n",
    "        elif a[j]=='S':\n",
    "            start.append([(i,j)])\n",
    "            arr.append('.')\n",
    "        elif a[j]=='D':\n",
    "            End = (i,j)\n",
    "            arr.append(a[j])\n",
    "        else:\n",
    "            arr.append(a[j])\n",
    "    A.append(arr)\n",
    "\n",
    "    "
   ]
  },
  {
   "cell_type": "markdown",
   "metadata": {},
   "source": [
    "# 풀이 참고하고 다시 풀어봄\n",
    "https://www.acmicpc.net/board/view/46129"
   ]
  },
  {
   "cell_type": "code",
   "execution_count": null,
   "metadata": {},
   "outputs": [],
   "source": [
    "from collections import deque\n",
    "R,C = map(int,input().split())\n",
    "A = []\n",
    "water = deque()\n",
    "start = deque()\n",
    "End = None\n",
    "for i in range(R):\n",
    "    a = input()\n",
    "    arr = []\n",
    "    for j in range(C):\n",
    "        if a[j]=='*':\n",
    "            water.append((i,j))\n",
    "            arr.append(a[j])\n",
    "        elif a[j]=='S':\n",
    "            start.append((i,j))\n",
    "            arr.append('.')\n",
    "        elif a[j]=='D':\n",
    "            End = (i,j)\n",
    "            arr.append(a[j])\n",
    "        else:\n",
    "            arr.append(a[j])\n",
    "    A.append(arr)\n",
    "\n",
    "def solution(R,C,A,water,start,End):\n",
    "    # bfs 하고 나서 dfs\n",
    "    answer = float('inf')\n",
    "    t=0\n",
    "    while start:\n",
    "        # 물 이동\n",
    "        #print(water)\n",
    "        for _ in range(len(water)):\n",
    "            next= water.popleft()\n",
    "            r,c = next\n",
    "            for dr,dc in [(1,0),(-1,0),(0,1),(0,-1)]:\n",
    "                new_r=r+dr\n",
    "                new_c=c+dc\n",
    "                if 0<=new_r<R and 0<=new_c<C:\n",
    "                    if A[new_r][new_c]=='.':\n",
    "                        water.append((new_r,new_c)) # 물은 반복이 안생길 것임.\n",
    "                        A[new_r][new_c]='*'\n",
    "        # 고슴도치 이동\n",
    "        for _ in range(len(start)):\n",
    "            # bfs\n",
    "            next = start.popleft() \n",
    "            if next==End:\n",
    "                if answer>t:\n",
    "                    answer=t\n",
    "                break\n",
    "            else:\n",
    "                r,c = next\n",
    "                for dr,dc in [(1,0),(-1,0),(0,1),(0,-1)]:\n",
    "                    new_r=r+dr\n",
    "                    new_c=c+dc\n",
    "\n",
    "                    if 0<=new_r<R and 0<=new_c<C:\n",
    "                        if A[new_r][new_c]=='.' or A[new_r][new_c]=='D':\n",
    "                            # 갔던 곳이 아니라면.\n",
    "                            start.append((new_r,new_c))\n",
    "        t+=1 # 시간 증가\n",
    "            \n",
    "    if answer!=float('inf'):\n",
    "        return answer\n",
    "    else:\n",
    "        return 'KAKTUS'\n",
    "        \n",
    "        \n",
    "print(solution(R,C,A,water,start,End))         \n",
    "               "
   ]
  },
  {
   "cell_type": "code",
   "execution_count": 9,
   "metadata": {},
   "outputs": [
    {
     "data": {
      "text/plain": [
       "array([['1', '2']], dtype='<U1')"
      ]
     },
     "execution_count": 9,
     "metadata": {},
     "output_type": "execute_result"
    }
   ],
   "source": [
    "import numpy as np\n",
    "np.array([['1','2']])"
   ]
  },
  {
   "cell_type": "code",
   "execution_count": null,
   "metadata": {},
   "outputs": [],
   "source": [
    "from collections import deque\n",
    "R,C = map(int,input().split())\n",
    "A = []\n",
    "water = deque()\n",
    "start = deque()\n",
    "End = None\n",
    "for i in range(R):\n",
    "    a = input()\n",
    "    arr = []\n",
    "    for j in range(C):\n",
    "        if a[j]=='*':\n",
    "            water.append((i,j))\n",
    "            \n",
    "        elif a[j]=='S':\n",
    "            start.append((i,j))\n",
    "            \n",
    "        elif a[j]=='D':\n",
    "            End = (i,j)\n",
    "        \n",
    "        arr.append(a[j])    \n",
    "        \n",
    "    \n",
    "    A.append(arr)\n",
    "## 동일"
   ]
  },
  {
   "cell_type": "code",
   "execution_count": 26,
   "metadata": {},
   "outputs": [],
   "source": [
    "def solution(R,C,A,water,start,End):\n",
    "    # bfs 하고 나서 dfs\n",
    "    t=0\n",
    "    while start:\n",
    "        t+=1 # 시간 증가\n",
    "        # 물 이동\n",
    "        wl = len(water)\n",
    "        for _ in range(wl):\n",
    "            next= water.popleft()\n",
    "            r,c = next\n",
    "            for dr,dc in [(1,0),(-1,0),(0,1),(0,-1)]:\n",
    "                new_r=r+dr\n",
    "                new_c=c+dc\n",
    "                if 0<=new_r<R and 0<=new_c<C:\n",
    "                    if A[new_r][new_c]=='.' or A[new_r][new_c]=='S':\n",
    "                        water.append((new_r,new_c)) # 물은 반복이 안생길 것임.\n",
    "                        A[new_r][new_c]='*'\n",
    "        # 고슴도치 이동\n",
    "        sl = len(start)\n",
    "        for _ in range(sl):\n",
    "            # bfs\n",
    "            next = start.popleft() \n",
    "            print(next)\n",
    "            r,c = next\n",
    "            for dr,dc in [(1,0),(-1,0),(0,1),(0,-1)]:\n",
    "                new_r=r+dr\n",
    "                new_c=c+dc\n",
    "\n",
    "                if 0<=new_r<R and 0<=new_c<C:\n",
    "                    if A[new_r][new_c]=='.':\n",
    "                        start.append((new_r,new_c))\n",
    "                        A[new_r][new_c]='S'\n",
    "                    elif A[new_r][new_c]=='D':\n",
    "                        return t\n",
    "                            \n",
    "        \n",
    "            \n",
    "    return 'KAKTUS'\n",
    " "
   ]
  },
  {
   "cell_type": "code",
   "execution_count": 25,
   "metadata": {},
   "outputs": [
    {
     "data": {
      "text/plain": [
       "[['D', '.', '.', '.', '*', '.'],\n",
       " ['.', 'X', '.', 'X', '.', '.'],\n",
       " ['.', '.', '.', '.', 'S', '.']]"
      ]
     },
     "execution_count": 25,
     "metadata": {},
     "output_type": "execute_result"
    }
   ],
   "source": [
    "A\n"
   ]
  },
  {
   "cell_type": "code",
   "execution_count": 17,
   "metadata": {},
   "outputs": [
    {
     "data": {
      "text/plain": [
       "deque([(0, 4)])"
      ]
     },
     "execution_count": 17,
     "metadata": {},
     "output_type": "execute_result"
    }
   ],
   "source": [
    "water"
   ]
  },
  {
   "cell_type": "code",
   "execution_count": 18,
   "metadata": {},
   "outputs": [
    {
     "data": {
      "text/plain": [
       "deque([(2, 4)])"
      ]
     },
     "execution_count": 18,
     "metadata": {},
     "output_type": "execute_result"
    }
   ],
   "source": [
    "start"
   ]
  },
  {
   "cell_type": "code",
   "execution_count": 19,
   "metadata": {},
   "outputs": [
    {
     "data": {
      "text/plain": [
       "(0, 0)"
      ]
     },
     "execution_count": 19,
     "metadata": {},
     "output_type": "execute_result"
    }
   ],
   "source": [
    "End"
   ]
  },
  {
   "cell_type": "code",
   "execution_count": null,
   "metadata": {},
   "outputs": [],
   "source": [
    "1 4 // 3 4 // 2 3 // 2 5"
   ]
  },
  {
   "cell_type": "code",
   "execution_count": 27,
   "metadata": {},
   "outputs": [
    {
     "name": "stdout",
     "output_type": "stream",
     "text": [
      "[['D' '.' '.' '*' '*' '*']\n",
      " ['.' 'X' '.' 'X' '*' '.']\n",
      " ['.' '.' '.' '.' 'S' '.']]\n",
      "(2, 4)\n",
      "[['D' '.' '.' '*' '*' '*']\n",
      " ['.' 'X' '.' 'X' '*' '.']\n",
      " ['.' '.' '.' 'S' 'S' 'S']]\n",
      "[['D' '.' '*' '*' '*' '*']\n",
      " ['.' 'X' '.' 'X' '*' '*']\n",
      " ['.' '.' '.' 'S' '*' 'S']]\n",
      "(2, 5)\n",
      "(2, 3)\n",
      "[['D' '.' '*' '*' '*' '*']\n",
      " ['.' 'X' '.' 'X' '*' '*']\n",
      " ['.' '.' 'S' 'S' '*' 'S']]\n",
      "[['D' '*' '*' '*' '*' '*']\n",
      " ['.' 'X' '*' 'X' '*' '*']\n",
      " ['.' '.' 'S' '*' '*' '*']]\n",
      "(2, 2)\n",
      "[['D' '*' '*' '*' '*' '*']\n",
      " ['.' 'X' '*' 'X' '*' '*']\n",
      " ['.' 'S' 'S' '*' '*' '*']]\n",
      "[['D' '*' '*' '*' '*' '*']\n",
      " ['.' 'X' '*' 'X' '*' '*']\n",
      " ['.' 'S' '*' '*' '*' '*']]\n",
      "(2, 1)\n",
      "[['D' '*' '*' '*' '*' '*']\n",
      " ['.' 'X' '*' 'X' '*' '*']\n",
      " ['S' 'S' '*' '*' '*' '*']]\n",
      "[['D' '*' '*' '*' '*' '*']\n",
      " ['.' 'X' '*' 'X' '*' '*']\n",
      " ['S' '*' '*' '*' '*' '*']]\n",
      "(2, 0)\n",
      "[['D' '*' '*' '*' '*' '*']\n",
      " ['S' 'X' '*' 'X' '*' '*']\n",
      " ['S' '*' '*' '*' '*' '*']]\n",
      "[['D' '*' '*' '*' '*' '*']\n",
      " ['S' 'X' '*' 'X' '*' '*']\n",
      " ['*' '*' '*' '*' '*' '*']]\n",
      "(1, 0)\n",
      "6\n"
     ]
    }
   ],
   "source": [
    "     \n",
    "        \n",
    "print(solution(R,C,A,water,start,End))         \n",
    "               "
   ]
  },
  {
   "cell_type": "code",
   "execution_count": null,
   "metadata": {},
   "outputs": [],
   "source": [
    "# 풀이\n",
    "https://chldkato.tistory.com/22"
   ]
  }
 ],
 "metadata": {
  "kernelspec": {
   "display_name": "Python 3",
   "language": "python",
   "name": "python3"
  },
  "language_info": {
   "codemirror_mode": {
    "name": "ipython",
    "version": 3
   },
   "file_extension": ".py",
   "mimetype": "text/x-python",
   "name": "python",
   "nbconvert_exporter": "python",
   "pygments_lexer": "ipython3",
   "version": "3.8.5"
  }
 },
 "nbformat": 4,
 "nbformat_minor": 4
}
