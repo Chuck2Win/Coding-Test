{
 "cells": [
  {
   "cell_type": "code",
   "execution_count": 2,
   "metadata": {},
   "outputs": [
    {
     "data": {
      "text/plain": [
       "'C:\\\\Users\\\\IDSL'"
      ]
     },
     "execution_count": 2,
     "metadata": {},
     "output_type": "execute_result"
    }
   ],
   "source": [
    "import os\n",
    "import sys\n",
    "os.getcwd()"
   ]
  },
  {
   "cell_type": "code",
   "execution_count": null,
   "metadata": {},
   "outputs": [],
   "source": [
    "# https://swexpertacademy.com/main/code/problem/problemDetail.do?contestProbId=AWIeUtVakTMDFAVH"
   ]
  },
  {
   "cell_type": "markdown",
   "metadata": {},
   "source": [
    "# Data"
   ]
  },
  {
   "cell_type": "code",
   "execution_count": 15,
   "metadata": {},
   "outputs": [],
   "source": [
    "sys.stdin = open('./sample_input.txt','r')\n",
    "N = None\n",
    "ns = [None]\n",
    "arrays = []\n",
    "array = []\n",
    "for _,i in enumerate(sys.stdin):\n",
    "    if _ == 0:\n",
    "        N = i\n",
    "    else:\n",
    "        a=list(map(int,i.split()))\n",
    "        if len(a)==1:\n",
    "            arrays.append(array)\n",
    "            ns.append(a[0])\n",
    "            array = []\n",
    "        else:\n",
    "            array.append(a)\n",
    "arrays.pop(0)\n",
    "ns.pop(0)"
   ]
  },
  {
   "cell_type": "code",
   "execution_count": 17,
   "metadata": {},
   "outputs": [],
   "source": [
    "answers = [2,1,38,15,4,0,51,23,13,11]"
   ]
  },
  {
   "cell_type": "markdown",
   "metadata": {},
   "source": [
    "# 출력  \n",
    "테스트 케이스 개수만큼 T개의 줄에 각각의 테스트 케이스에 대한 답을 출력한다.  \n",
    "\n",
    "각 줄은 \"#t\"로 시작하고 공백을 하나 둔 다음 정답을 출력한다. (t 는 1부터 시작하는 테스트 케이스의 번호이다.)  \n",
    "\n",
    "정답은 두 음식 간의 맛의 차이가 최소가 되도록 A음식과 B음식을 만들었을 때 그 차이 값이다.  "
   ]
  },
  {
   "cell_type": "code",
   "execution_count": 18,
   "metadata": {},
   "outputs": [],
   "source": [
    "def return_answer(answers):\n",
    "    for _,answer in enumerate(answers):\n",
    "        print('#%d %d'%(_+1,answer))"
   ]
  },
  {
   "cell_type": "code",
   "execution_count": 19,
   "metadata": {},
   "outputs": [
    {
     "name": "stdout",
     "output_type": "stream",
     "text": [
      "#1 2\n",
      "#2 1\n",
      "#3 38\n",
      "#4 15\n",
      "#5 4\n",
      "#6 0\n",
      "#7 51\n",
      "#8 23\n",
      "#9 13\n",
      "#10 11\n"
     ]
    }
   ],
   "source": [
    "return_answer(answers)"
   ]
  },
  {
   "cell_type": "code",
   "execution_count": 70,
   "metadata": {},
   "outputs": [
    {
     "name": "stdout",
     "output_type": "stream",
     "text": [
      "0\n",
      "1\n",
      "2\n",
      "1\n",
      "2\n",
      "2\n"
     ]
    },
    {
     "data": {
      "text/plain": [
       "23"
      ]
     },
     "execution_count": 70,
     "metadata": {},
     "output_type": "execute_result"
    }
   ],
   "source": [
    "score([0,1,2],arrays[0])"
   ]
  },
  {
   "cell_type": "code",
   "execution_count": null,
   "metadata": {},
   "outputs": [],
   "source": [
    "[0,1,2]"
   ]
  },
  {
   "cell_type": "code",
   "execution_count": 71,
   "metadata": {},
   "outputs": [],
   "source": [
    "def score(m, array):\n",
    "    # [0,1] -> 0, 1 , 1,0\n",
    "    s = 0\n",
    "    for i in enumerate(m):\n",
    "        print(i)\n",
    "        for j in m[_+1:]:\n",
    "            print(j)\n",
    "            if i!=j:\n",
    "                s+=(array[i][j]+array[j][i])\n",
    "    return s"
   ]
  },
  {
   "cell_type": "code",
   "execution_count": 55,
   "metadata": {},
   "outputs": [],
   "source": [
    "def dfs_comb(N,n):\n",
    "    visited = []\n",
    "    next_visited = [[i] for i in range(N-n+1)] #N-n+1\n",
    "    final = []\n",
    "    while next_visited:\n",
    "        next = next_visited.pop()\n",
    "        if len(next)==n:\n",
    "            final.append(next)\n",
    "        else:\n",
    "            for j in next: # [0,2]\n",
    "                for j in range(next[-1]+1,N): # 보다 큰 수\n",
    "                    if j not in next:\n",
    "                        next_visited.append(next+[j])\n",
    "    return final"
   ]
  },
  {
   "cell_type": "code",
   "execution_count": 74,
   "metadata": {},
   "outputs": [],
   "source": [
    "def dfs_comb(N,n):\n",
    "    visited = []\n",
    "    next_visited = [[i] for i in range(N-n+1)] #N-n+1\n",
    "    final_a = []\n",
    "    while next_visited:\n",
    "        \n",
    "        next = next_visited.pop()\n",
    "        if next in visited:\n",
    "            final_b.append(next)\n",
    "        else:\n",
    "\n",
    "            if len(next)==n:\n",
    "                final_a.append(next)\n",
    "            else:\n",
    "                for j in next: # [0,2]\n",
    "                    for j in range(next[-1]+1,N): # 보다 큰 수\n",
    "                        if j not in next:\n",
    "                            next_visited.append(next+[j])\n",
    "    return final_a,final_b"
   ]
  },
  {
   "cell_type": "code",
   "execution_count": 75,
   "metadata": {},
   "outputs": [
    {
     "data": {
      "text/plain": [
       "([[2, 3], [1, 3], [1, 2], [0, 3], [0, 2], [0, 1]], [])"
      ]
     },
     "execution_count": 75,
     "metadata": {},
     "output_type": "execute_result"
    }
   ],
   "source": [
    "dfs_comb(4,2)"
   ]
  },
  {
   "cell_type": "code",
   "execution_count": 63,
   "metadata": {},
   "outputs": [],
   "source": [
    "def solution(N,array):\n",
    "    b=[[i for i in range(N) if i not in j] for j in dfs_comb(N,N//2)] # 줄일 수 있을 듯!\n",
    "    sa=[score(i,array) for i in dfs_comb(N,N//2)]\n",
    "    sb=[score(i,array) for i in b]\n",
    "    m = min([abs(i-j) for i,j in zip(sa,sb)])\n",
    "    return m"
   ]
  },
  {
   "cell_type": "code",
   "execution_count": 60,
   "metadata": {},
   "outputs": [],
   "source": [
    "answers=[]\n",
    "for i,j in zip(ns,arrays):\n",
    "    answers.append(solution(i,j))"
   ]
  },
  {
   "cell_type": "code",
   "execution_count": 67,
   "metadata": {},
   "outputs": [
    {
     "data": {
      "text/plain": [
       "[(0, 1), (0, 2), (0, 3), (1, 2), (1, 3), (2, 3)]"
      ]
     },
     "execution_count": 67,
     "metadata": {},
     "output_type": "execute_result"
    }
   ],
   "source": [
    "from itertools import combinations\n",
    "list(combinations(range(4)\n",
    "             ,2))"
   ]
  },
  {
   "cell_type": "code",
   "execution_count": 64,
   "metadata": {},
   "outputs": [
    {
     "data": {
      "text/plain": [
       "[[1, 2, 3],\n",
       " [1, 2, 3],\n",
       " [0, 2, 3],\n",
       " [0, 2, 3],\n",
       " [0, 1, 3],\n",
       " [0, 1, 2],\n",
       " [0, 1, 3],\n",
       " [0, 1, 2]]"
      ]
     },
     "execution_count": 64,
     "metadata": {},
     "output_type": "execute_result"
    }
   ],
   "source": [
    "dfs_comb(4,3)"
   ]
  }
 ],
 "metadata": {
  "kernelspec": {
   "display_name": "Python 3",
   "language": "python",
   "name": "python3"
  },
  "language_info": {
   "codemirror_mode": {
    "name": "ipython",
    "version": 3
   },
   "file_extension": ".py",
   "mimetype": "text/x-python",
   "name": "python",
   "nbconvert_exporter": "python",
   "pygments_lexer": "ipython3",
   "version": "3.8.3"
  }
 },
 "nbformat": 4,
 "nbformat_minor": 4
}
