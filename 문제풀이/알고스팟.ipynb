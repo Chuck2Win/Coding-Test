{
 "cells": [
  {
   "cell_type": "markdown",
   "metadata": {},
   "source": [
    "# 백준 1261\n",
    "# 알고스팟"
   ]
  },
  {
   "cell_type": "code",
   "execution_count": 15,
   "metadata": {},
   "outputs": [
    {
     "name": "stdout",
     "output_type": "stream",
     "text": [
      "3 3\n",
      "011\n",
      "111\n",
      "110\n"
     ]
    }
   ],
   "source": [
    "R,C = map(int,input().split())\n",
    "A = []\n",
    "for i in range(R):\n",
    "    A.append(list(map(int,(' '.join(input())).split())))"
   ]
  },
  {
   "cell_type": "markdown",
   "metadata": {},
   "source": [
    "# 초벌  \n",
    "## BFS 2차  "
   ]
  },
  {
   "cell_type": "code",
   "execution_count": 75,
   "metadata": {},
   "outputs": [],
   "source": [
    "# 초벌\n",
    "from collections import deque\n",
    "# 최적화\n",
    "def solution(R,C,A):\n",
    "    # 되돌아가기 없기\n",
    "    # 2차로 푼다.\n",
    "    #visited=[]\n",
    "    visited=R*C\n",
    "    next_visit = deque([[(0,0),A,0]])\n",
    "    dest = (R-1,C-1)\n",
    "    while next_visit:\n",
    "        print(next_visit)\n",
    "        l = len(next_visit)\n",
    "        for _ in range(l):\n",
    "            next = next_visit.popleft()\n",
    "            r,c=next[0]\n",
    "            if visited>next[-1]: # 최적화\n",
    "                if next[0]==dest:\n",
    "                    if visited>next[-1]:\n",
    "                        visited=next[-1]\n",
    "                    continue\n",
    "                else:\n",
    "                    for dr,dc in [(1,0),(-1,0),(0,1),(0,-1)]:\n",
    "                        new_r,new_c=r+dr,c+dc \n",
    "                        if 0<=new_r<R and 0<=new_c<C:\n",
    "                            if next[1][new_r][new_c]==0:\n",
    "                                new = [[next[1][i][j] for j in range(C)] for i in range(R)]\n",
    "                                new[new_r][new_c]=2\n",
    "                                next_visit.append([(new_r,new_c),new,next[-1]])\n",
    "\n",
    "                            elif A[new_r][new_c]==1:\n",
    "                                if next[-1]+1<visited:\n",
    "                                    new = [[next[1][i][j] for j in range(C)] for i in range(R)]\n",
    "                                    new[new_r][new_c]=2\n",
    "                                    next_visit.append([(new_r,new_c),new,next[-1]+1])\n",
    "\n",
    "    return visited"
   ]
  },
  {
   "cell_type": "markdown",
   "metadata": {},
   "source": [
    "# 두벌  \n",
    "## BFS 2차 + for i in range(length) 빼주고\n",
    "## 0인 녀석에 더 빨리 접근하도록"
   ]
  },
  {
   "cell_type": "code",
   "execution_count": 87,
   "metadata": {
    "collapsed": true
   },
   "outputs": [
    {
     "name": "stdout",
     "output_type": "stream",
     "text": [
      "\n"
     ]
    },
    {
     "ename": "ValueError",
     "evalue": "not enough values to unpack (expected 2, got 0)",
     "output_type": "error",
     "traceback": [
      "\u001b[1;31m---------------------------------------------------------------------------\u001b[0m",
      "\u001b[1;31mValueError\u001b[0m                                Traceback (most recent call last)",
      "\u001b[1;32m<ipython-input-87-24cc10f53f58>\u001b[0m in \u001b[0;36m<module>\u001b[1;34m\u001b[0m\n\u001b[0;32m     35\u001b[0m \u001b[1;33m\u001b[0m\u001b[0m\n\u001b[0;32m     36\u001b[0m     \u001b[1;32mreturn\u001b[0m \u001b[0mvisited\u001b[0m\u001b[1;33m\u001b[0m\u001b[1;33m\u001b[0m\u001b[0m\n\u001b[1;32m---> 37\u001b[1;33m \u001b[0mC\u001b[0m\u001b[1;33m,\u001b[0m\u001b[0mR\u001b[0m \u001b[1;33m=\u001b[0m \u001b[0mmap\u001b[0m\u001b[1;33m(\u001b[0m\u001b[0mint\u001b[0m\u001b[1;33m,\u001b[0m\u001b[0minput\u001b[0m\u001b[1;33m(\u001b[0m\u001b[1;33m)\u001b[0m\u001b[1;33m.\u001b[0m\u001b[0msplit\u001b[0m\u001b[1;33m(\u001b[0m\u001b[1;33m)\u001b[0m\u001b[1;33m)\u001b[0m\u001b[1;33m\u001b[0m\u001b[1;33m\u001b[0m\u001b[0m\n\u001b[0m\u001b[0;32m     38\u001b[0m \u001b[0mA\u001b[0m \u001b[1;33m=\u001b[0m \u001b[1;33m[\u001b[0m\u001b[1;33m]\u001b[0m\u001b[1;33m\u001b[0m\u001b[1;33m\u001b[0m\u001b[0m\n\u001b[0;32m     39\u001b[0m \u001b[1;32mfor\u001b[0m \u001b[0mi\u001b[0m \u001b[1;32min\u001b[0m \u001b[0mrange\u001b[0m\u001b[1;33m(\u001b[0m\u001b[0mR\u001b[0m\u001b[1;33m)\u001b[0m\u001b[1;33m:\u001b[0m\u001b[1;33m\u001b[0m\u001b[1;33m\u001b[0m\u001b[0m\n",
      "\u001b[1;31mValueError\u001b[0m: not enough values to unpack (expected 2, got 0)"
     ]
    }
   ],
   "source": [
    "from collections import deque\n",
    "# 최적화 + DP\n",
    "def solution(R,C,A):\n",
    "    # 되돌아가기 없기\n",
    "    # 2차로 푼다.\n",
    "    #visited=[]\n",
    "    visited=R*C\n",
    "    next_visit = deque([[(0,0),A,0]])\n",
    "    dest = (R-1,C-1)\n",
    "    while next_visit:\n",
    "        next = next_visit.popleft()\n",
    "        r,c=next[0]\n",
    "        if visited>next[-1]: # 최적화\n",
    "            if next[0]==dest:\n",
    "                if visited>next[-1]:\n",
    "                    visited=next[-1]\n",
    "                continue\n",
    "            else:\n",
    "                for dr,dc in [(1,0),(-1,0),(0,1),(0,-1)]:\n",
    "                    new_r,new_c=r+dr,c+dc \n",
    "                    if 0<=new_r<R and 0<=new_c<C:\n",
    "                        if next[1][new_r][new_c]==0:\n",
    "                            new = [[next[1][i][j] for j in range(C)] for i in range(R)]\n",
    "                            new[new_r][new_c]=2\n",
    "                            next_visit.appendleft([(new_r,new_c),new,next[-1]]) # 0인 녀석을 먼저 방문하게끔.\n",
    "\n",
    "                        elif A[new_r][new_c]==1:\n",
    "                            if next[-1]+1<visited:\n",
    "                                new = [[next[1][i][j] for j in range(C)] for i in range(R)]\n",
    "                                new[new_r][new_c]=2\n",
    "                                next_visit.append([(new_r,new_c),new,next[-1]+1])\n",
    "\n",
    "    return visited"
   ]
  },
  {
   "cell_type": "markdown",
   "metadata": {},
   "source": [
    "## 세벌\n",
    "## BFS + DP\n",
    "### comment : 문제들을 살펴보면 graph(array)를 통째로 전달해주는 식은 없다\n",
    "### 즉 타임마다 같이 움직이는 식으로 graph를 전달한다.  "
   ]
  },
  {
   "cell_type": "code",
   "execution_count": 91,
   "metadata": {},
   "outputs": [],
   "source": [
    "from collections import deque\n",
    "# 최적화 + DP\n",
    "def solution(R,C,A):\n",
    "    # 되돌아가기 없기\n",
    "    # 2차로 푼다.\n",
    "    #visited=[]\n",
    "    visited=R*C\n",
    "    next_visit = deque([(0,0)])\n",
    "    table = [[-1 for _ in range(C)] for _ in range(R)] # 아싸리 table을 다시 만들고, next[-1] 기록장\n",
    "    table[0][0]=0 # 초기 지점 초기화\n",
    "    dest = (R-1,C-1)\n",
    "    while next_visit:\n",
    "        next = next_visit.popleft()\n",
    "        r,c=next\n",
    "        for dr,dc in [(1,0),(-1,0),(0,1),(0,-1)]:\n",
    "            new_r,new_c=r+dr,c+dc \n",
    "            if 0<=new_r<R and 0<=new_c<C:\n",
    "                if table[new_r][new_c]==-1: # 미방문상태\n",
    "                    if A[new_r][new_c]==0:\n",
    "                        table[new_r][new_c]=table[r][c]\n",
    "                        next_visit.appendleft((new_r,new_c)) # 0인 녀석을 먼저 방문하게끔.\n",
    "                    elif A[new_r][new_c]==1:\n",
    "                        table[new_r][new_c]=table[r][c]+1\n",
    "                        next_visit.append((new_r,new_c)) # 0인 녀석을 먼저 방문하게끔.\n",
    "    return table[-1][-1]"
   ]
  },
  {
   "cell_type": "code",
   "execution_count": 92,
   "metadata": {},
   "outputs": [
    {
     "data": {
      "text/plain": [
       "2"
      ]
     },
     "execution_count": 92,
     "metadata": {},
     "output_type": "execute_result"
    }
   ],
   "source": [
    "solution(R,C,A)"
   ]
  }
 ],
 "metadata": {
  "kernelspec": {
   "display_name": "Python 3",
   "language": "python",
   "name": "python3"
  },
  "language_info": {
   "codemirror_mode": {
    "name": "ipython",
    "version": 3
   },
   "file_extension": ".py",
   "mimetype": "text/x-python",
   "name": "python",
   "nbconvert_exporter": "python",
   "pygments_lexer": "ipython3",
   "version": "3.8.3"
  }
 },
 "nbformat": 4,
 "nbformat_minor": 4
}
