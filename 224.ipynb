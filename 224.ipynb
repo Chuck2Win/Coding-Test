{
 "cells": [
  {
   "cell_type": "markdown",
   "metadata": {},
   "source": [
    "# 중복조합\n",
    "# n개에서 r개 선택\n",
    "# 서로다른 n개서 r개 선택\n",
    "# nHr n+r-1Cr\n",
    "# ex. 9 3 - 1 1 7, 1 2 6, ... 3,3,3\n",
    "#초기조건 dfs1\n",
    "#탈출조건 2개\n",
    "#추가조건"
   ]
  },
  {
   "cell_type": "code",
   "execution_count": 20,
   "metadata": {},
   "outputs": [],
   "source": [
    "from collections import deque\n",
    "def dfs(array,r,s):\n",
    "    #서로 다른 array에서 r개를 선택하는 방법의 수\n",
    "    #NHr = N+r-1Cr\n",
    "    idx = list(range(len(array)))\n",
    "    visited=deque()\n",
    "    N = len(idx)+r-1\n",
    "    # 초기조건\n",
    "    next_visit=deque([[_] for _ in range(N-r+1)])\n",
    "    while next_visit:\n",
    "        # 탈출조건\n",
    "        next = next_visit.pop()\n",
    "        if len(next)==r:\n",
    "            appending = []\n",
    "            for _,i in enumerate(next):\n",
    "                appending.append(array[i-_])\n",
    "            if sum(appending)==s:\n",
    "                visited.append(appending)\n",
    "        # 추가조건\n",
    "        else:\n",
    "            for i in range(next[-1]+1,N):\n",
    "                if i not in next:\n",
    "                    next_visit.append(next+[i])\n",
    "    return visited "
   ]
  },
  {
   "cell_type": "code",
   "execution_count": 22,
   "metadata": {},
   "outputs": [],
   "source": [
    "def product(array):\n",
    "    ss=1\n",
    "    for i in array:\n",
    "        ss*=i\n",
    "    return ss"
   ]
  },
  {
   "cell_type": "code",
   "execution_count": null,
   "metadata": {},
   "outputs": [],
   "source": [
    "if visited:\n",
    "    return visited[-1]\n",
    "else:\n",
    "    return [-1]"
   ]
  },
  {
   "cell_type": "code",
   "execution_count": 9,
   "metadata": {},
   "outputs": [
    {
     "data": {
      "text/plain": [
       "9"
      ]
     },
     "execution_count": 9,
     "metadata": {},
     "output_type": "execute_result"
    }
   ],
   "source": [
    "def product(array):\n",
    "    ss=1\n",
    "    for i in array:\n",
    "        ss*=i\n",
    "    return ss\n",
    "def solution(n, s):\n",
    "    if s<n:\n",
    "        return [-1]\n",
    "    else:\n",
    "        answer = -1\n",
    "        visited=deque([])\n",
    "        array=[i for i in range(0,n+s-1)]\n",
    "        next_visit=deque([[array[_]] for _ in range(len(array)-n+1)])\n",
    "        while next_visit:\n",
    "            next=next_visit.pop()\n",
    "            if len(next)==n:\n",
    "                a=[next[i]-i+1 for i in range(n)]\n",
    "                if sum(a)==s:\n",
    "                    if answer<product(a):\n",
    "                        answer=product(a)\n",
    "\n",
    "                        visited.append(a)\n",
    "\n",
    "\n",
    "            else:\n",
    "                for i in range(next[-1]+1, len(array)):\n",
    "                    if i not in next:\n",
    "                        next_visit.append(next+[i])\n",
    "\n",
    "\n",
    "\n",
    "        if answer== -1:\n",
    "            return [-1]\n",
    "        else:\n",
    "            return visited.pop()"
   ]
  },
  {
   "cell_type": "code",
   "execution_count": 13,
   "metadata": {},
   "outputs": [
    {
     "name": "stdout",
     "output_type": "stream",
     "text": [
      "1\n",
      "2\n",
      "3\n",
      "4\n",
      "3\n",
      "4\n",
      "5\n",
      "6\n",
      "7\n",
      "8\n",
      "9\n"
     ]
    },
    {
     "data": {
      "text/plain": [
       "[[0, 0, 0, 0, 0, 0, 0, 0, 0, 0],\n",
       " [0, 1, 0, 0, 0, 0, 0, 0, 0, 0],\n",
       " [0, 0, 1, 2, 4, 0, 0, 0, 0, 0],\n",
       " [0, 0, 0, 1, 2, 4, 6, 12, 0, 27]]"
      ]
     },
     "execution_count": 13,
     "metadata": {},
     "output_type": "execute_result"
    }
   ],
   "source": [
    "solution(3,9)"
   ]
  },
  {
   "cell_type": "markdown",
   "metadata": {},
   "source": [
    "# 프로그래머스 최고의 집합\n",
    "## 초기 접근 : DPS -> 시간초과\n",
    "## 후기 접근 : DP -> 시간초과"
   ]
  },
  {
   "cell_type": "code",
   "execution_count": 32,
   "metadata": {},
   "outputs": [],
   "source": [
    "def product(array):\n",
    "    s=1\n",
    "    for i in array:\n",
    "        s*=i\n",
    "    return s"
   ]
  },
  {
   "cell_type": "code",
   "execution_count": 46,
   "metadata": {},
   "outputs": [],
   "source": [
    "table = [[[-1] for _ in range(s+1)] for _ in range(n+1)]\n",
    "for i in range(1,s+1):\n",
    "    table[1][i]=[i]\n",
    "\n",
    "for i in range(2,n+1):\n",
    "    for j in range(i,s+1):\n",
    "        table[i][j]=[j//i]+table[i-1][j-j//i]"
   ]
  },
  {
   "cell_type": "code",
   "execution_count": 47,
   "metadata": {},
   "outputs": [
    {
     "name": "stdout",
     "output_type": "stream",
     "text": [
      "[[-1], [-1], [-1], [-1], [-1], [-1], [-1], [-1], [-1], [-1]]\n",
      "[[-1], [1], [2], [3], [4], [5], [6], [7], [8], [9]]\n",
      "[[-1], [-1], [1, 1], [1, 2], [2, 2], [2, 3], [3, 3], [3, 4], [4, 4], [4, 5]]\n",
      "[[-1], [-1], [-1], [1, 1, 1], [1, 1, 2], [1, 2, 2], [2, 2, 2], [2, 2, 3], [2, 3, 3], [3, 3, 3]]\n"
     ]
    }
   ],
   "source": [
    "for i in table:\n",
    "    print(i)"
   ]
  },
  {
   "cell_type": "code",
   "execution_count": 48,
   "metadata": {},
   "outputs": [],
   "source": [
    "def solution(n,s):\n",
    "    \n",
    "    table = [[[-1] for _ in range(s+1)] for _ in range(n+1)]\n",
    "    for i in range(1,s+1):\n",
    "        table[1][i]=[i]\n",
    "\n",
    "    for i in range(2,n+1): # n\n",
    "        for j in range(i,s+1): # s\n",
    "            table[i][j]=[j//i]+table[i-1][j-j//i]\n",
    "    return table[-1][-1]\n"
   ]
  },
  {
   "cell_type": "code",
   "execution_count": 50,
   "metadata": {},
   "outputs": [
    {
     "data": {
      "text/plain": [
       "[4, 5]"
      ]
     },
     "execution_count": 50,
     "metadata": {},
     "output_type": "execute_result"
    }
   ],
   "source": [
    "solution(2,9)"
   ]
  },
  {
   "cell_type": "markdown",
   "metadata": {},
   "source": [
    "# 프로그래머스 최고의 집합\n",
    "## 수학적 접근"
   ]
  },
  {
   "cell_type": "code",
   "execution_count": 57,
   "metadata": {},
   "outputs": [],
   "source": [
    "def solution(n,s):\n",
    "    if n>s:\n",
    "        return [-1]\n",
    "    else:\n",
    "        q = s//n\n",
    "        r = s%n\n",
    "        answer = [q for _ in range(n)]\n",
    "        for i in range(r):\n",
    "            answer[-1-i]=answer[-1-i]+1\n",
    "        return answer\n",
    "            "
   ]
  },
  {
   "cell_type": "code",
   "execution_count": 59,
   "metadata": {},
   "outputs": [
    {
     "data": {
      "text/plain": [
       "[3, 3, 3]"
      ]
     },
     "execution_count": 59,
     "metadata": {},
     "output_type": "execute_result"
    }
   ],
   "source": [
    "solution(3,9)"
   ]
  },
  {
   "cell_type": "markdown",
   "metadata": {},
   "source": [
    "# 백준 1699\n",
    "# 제곱수의 합\n",
    "## DP\n",
    "### trial 1 : 가장 큰 제곱수를 빼는 식으로\n",
    "### 틀림"
   ]
  },
  {
   "cell_type": "code",
   "execution_count": 85,
   "metadata": {},
   "outputs": [
    {
     "name": "stdout",
     "output_type": "stream",
     "text": [
      "81\n"
     ]
    }
   ],
   "source": [
    "N = int(input())\n",
    "def dp(N):\n",
    "    table = [0]*(N+1)\n",
    "    biggest = [0]*(N+1)\n",
    "    t=-1\n",
    "    for i in range(1,N+1):\n",
    "        while True:\n",
    "            if t**2<=i<(t+1)**2:\n",
    "                break\n",
    "            else:\n",
    "                t+=1\n",
    "        biggest[i]=t\n",
    "        table[i]=table[i-biggest[i]**2]+1\n",
    "    return table,biggest\n",
    "answer=dp(N)[-1][-1]\n",
    "# 반례 18"
   ]
  },
  {
   "cell_type": "code",
   "execution_count": 72,
   "metadata": {},
   "outputs": [
    {
     "name": "stdout",
     "output_type": "stream",
     "text": [
      "[0, 1, 1, 1, 2, 2, 2, 2, 2, 3]\n",
      "[0, 1, 2, 3, 1, 2, 3, 4, 2, 1]\n"
     ]
    }
   ],
   "source": [
    "dp(9)"
   ]
  },
  {
   "cell_type": "code",
   "execution_count": 103,
   "metadata": {},
   "outputs": [
    {
     "name": "stdout",
     "output_type": "stream",
     "text": [
      "18\n"
     ]
    }
   ],
   "source": [
    "# 통과는 완료\n",
    "N = int(input())\n",
    "def dp(N):\n",
    "    table = [0]*(N+1)\n",
    "    biggest = [0]*(N+1)\n",
    "    t=-1\n",
    "    for i in range(1,N+1):\n",
    "        while True:\n",
    "            if t**2<=i<(t+1)**2:\n",
    "                break\n",
    "            else:\n",
    "                t+=1\n",
    "        biggest[i]=t\n",
    "        table[i]=min([table[i-j**2]+1 for j in range(1,biggest[i]+1)]) # 반복수 j\n",
    "    return table[-1]\n",
    "print(dp(N))"
   ]
  },
  {
   "cell_type": "code",
   "execution_count": 117,
   "metadata": {},
   "outputs": [
    {
     "name": "stdout",
     "output_type": "stream",
     "text": [
      "27\n",
      "3\n"
     ]
    }
   ],
   "source": [
    "# 참조\n",
    "N = int(input())\n",
    "def dp(N):\n",
    "    table = [i for i in range(N+1)] # 어차피 1로 하면 그게 최소니깐\n",
    "    biggest = [0]*(N+1)\n",
    "    t=-1\n",
    "    for i in range(1,N+1):\n",
    "        while True:\n",
    "            if t**2<=i<(t+1)**2:\n",
    "                break\n",
    "            else:\n",
    "                t+=1\n",
    "        biggest[i]=t\n",
    "        table[i]=min([table[i-j**2]+1 for j in range(1,biggest[i]+1)]) # 반복수 j\n",
    "    return table[-1]\n"
   ]
  }
 ],
 "metadata": {
  "kernelspec": {
   "display_name": "Python 3",
   "language": "python",
   "name": "python3"
  },
  "language_info": {
   "codemirror_mode": {
    "name": "ipython",
    "version": 3
   },
   "file_extension": ".py",
   "mimetype": "text/x-python",
   "name": "python",
   "nbconvert_exporter": "python",
   "pygments_lexer": "ipython3",
   "version": "3.8.5"
  }
 },
 "nbformat": 4,
 "nbformat_minor": 4
}
