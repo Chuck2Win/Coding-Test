{
  "nbformat": 4,
  "nbformat_minor": 0,
  "metadata": {
    "colab": {
      "name": "Heap.ipynb",
      "provenance": [],
      "authorship_tag": "ABX9TyPblSp9Fm02H8mRqnx5uylr",
      "include_colab_link": true
    },
    "kernelspec": {
      "name": "python3",
      "display_name": "Python 3"
    }
  },
  "cells": [
    {
      "cell_type": "markdown",
      "metadata": {
        "id": "view-in-github",
        "colab_type": "text"
      },
      "source": [
        "<a href=\"https://colab.research.google.com/github/Chuck2Win/Coding-Test/blob/master/Heap.ipynb\" target=\"_parent\"><img src=\"https://colab.research.google.com/assets/colab-badge.svg\" alt=\"Open In Colab\"/></a>"
      ]
    },
    {
      "cell_type": "code",
      "metadata": {
        "id": "GUwlnP2R-KwV"
      },
      "source": [
        "# Heap - 수업 시간 컨셉\r\n",
        "class Heap:\r\n",
        "    def __init__(self,data):\r\n",
        "        '''\r\n",
        "        data : 1개\r\n",
        "        '''\r\n",
        "        self.heap_list = [None]\r\n",
        "        self.heap_list.append(data)\r\n",
        "    \r\n",
        "    def move(self,idx):\r\n",
        "        if idx <=1:\r\n",
        "            return False\r\n",
        "        else:\r\n",
        "            parent_idx = idx//2\r\n",
        "            if self.heap_list[parent_idx]>=self.heap_list[idx]:\r\n",
        "                return False\r\n",
        "            else:\r\n",
        "                return True\r\n",
        "\r\n",
        "    def insert(self,data):\r\n",
        "        # 추가\r\n",
        "        self.heap_list.append(data) \r\n",
        "        child_idx = len(self.heap_list)-1 \r\n",
        "        while self.move(child_idx):\r\n",
        "            parent_idx = child_idx//2\r\n",
        "            self.heap_list[child_idx],self.heap_list[parent_idx]=self.heap_list[parent_idx],self.heap_list[child_idx]\r\n",
        "            child_idx = parent_idx\r\n",
        "        # 이제 비교\r\n"
      ],
      "execution_count": 8,
      "outputs": []
    },
    {
      "cell_type": "code",
      "metadata": {
        "id": "OV9PNGB4EaUR"
      },
      "source": [
        "# Heap - heapify\r\n",
        "class Heap:\r\n",
        "    def __init__(self,data):\r\n",
        "        '''\r\n",
        "        data : 1개\r\n",
        "        '''\r\n",
        "        self.heap_list = [None]\r\n",
        "        self.heap_list.extend(data)\r\n",
        "    \r\n",
        "    def move_up(self,idx):\r\n",
        "        if idx <=1:\r\n",
        "            return False\r\n",
        "        else:\r\n",
        "            parent_idx = idx//2\r\n",
        "            if self.heap_list[parent_idx]>=self.heap_list[idx]:\r\n",
        "                return False\r\n",
        "            else:\r\n",
        "                return True\r\n",
        "\r\n",
        "    def heapify(self):\r\n",
        "        # 추가\r\n",
        "        for i in range(len(self.heap_list)-1,0,-1): # N\r\n",
        "            child_idx = i\r\n",
        "            while self.move_up(child_idx): # log N\r\n",
        "                parent_idx = child_idx//2\r\n",
        "                self.heap_list[child_idx],self.heap_list[parent_idx]=self.heap_list[parent_idx],self.heap_list[child_idx]\r\n",
        "                child_idx = parent_idx\r\n",
        "        # 이제 비교\r\n",
        "    def move_down(self,idx):\r\n",
        "        if idx==len(self.heap_list)-1:\r\n",
        "            return False\r\n",
        "        else:\r\n",
        "            # 자식이 없을 때\r\n",
        "            if idx*2==len(self.heap_list):\r\n",
        "                return False\r\n",
        "            # 자식이 한 명일 때\r\n",
        "            elif 2*idx == (len(self.heap_list)-1):\r\n",
        "                # left랑만 비교\r\n",
        "                if self.heap_list[idx*2]>self.heap_list[idx]:\r\n",
        "                    return 'left'\r\n",
        "                else:\r\n",
        "                    return False\r\n",
        "            # 자식이 2명일 때\r\n",
        "            else:\r\n",
        "                # left, right 다 비교\r\n",
        "                if max([idx,2*idx, 2*idx+1], key = lambda i : self.heap_list[i])==idx:\r\n",
        "                    return False\r\n",
        "                elif max([idx,2*idx, 2*idx+1], key = lambda i : self.heap_list[i])==2*idx:\r\n",
        "                    return 'left'\r\n",
        "                else:\r\n",
        "                    return 'right'\r\n",
        "    def delete(self):\r\n",
        "        max_value = self.heap_list[1]\r\n",
        "        self.heap_list[1]=self.heap_list[-1]\r\n",
        "        self.heap_list.pop()\r\n",
        "        idx = 1\r\n",
        "        while self.move_down(idx):\r\n",
        "            print(self.heap_list)\r\n",
        "            print(idx)\r\n",
        "            if self.move_down(idx) == 'left':\r\n",
        "                child_idx = 2*idx\r\n",
        "            else:\r\n",
        "                child_idx = 2*idx+1\r\n",
        "            self.heap_list[idx],self.heap_list[child_idx]=self.heap_list[child_idx],self.heap_list[idx]\r\n",
        "            idx = child_idx\r\n"
      ],
      "execution_count": 40,
      "outputs": []
    },
    {
      "cell_type": "code",
      "metadata": {
        "colab": {
          "base_uri": "https://localhost:8080/"
        },
        "id": "EZp8nG2VJXhA",
        "outputId": "0f5146e7-439e-42c4-82d1-1067a227ab7c"
      },
      "source": [
        "h.heap_list"
      ],
      "execution_count": 24,
      "outputs": [
        {
          "output_type": "execute_result",
          "data": {
            "text/plain": [
              "[None, 4, 5, 6, 2, 1]"
            ]
          },
          "metadata": {
            "tags": []
          },
          "execution_count": 24
        }
      ]
    },
    {
      "cell_type": "code",
      "metadata": {
        "colab": {
          "base_uri": "https://localhost:8080/"
        },
        "id": "joiSp4phK7h4",
        "outputId": "fb8a79ce-3394-4acc-c22f-2d711845b181"
      },
      "source": [
        "a=[None, 2, 4, 6, 5, 1]\r\n",
        "a[1]\r\n",
        "a[2]"
      ],
      "execution_count": 32,
      "outputs": [
        {
          "output_type": "execute_result",
          "data": {
            "text/plain": [
              "4"
            ]
          },
          "metadata": {
            "tags": []
          },
          "execution_count": 32
        }
      ]
    },
    {
      "cell_type": "code",
      "metadata": {
        "colab": {
          "base_uri": "https://localhost:8080/"
        },
        "id": "f33SOw0uJHDg",
        "outputId": "284f65af-92e2-4fd5-b726-4e011e8d7de9"
      },
      "source": [
        "h=Heap([4,5,6,7,1,2])\r\n",
        "h.heapify()\r\n",
        "print(h.heap_list)\r\n",
        "h.delete()\r\n",
        "print(h.heap_list)"
      ],
      "execution_count": 41,
      "outputs": [
        {
          "output_type": "stream",
          "text": [
            "[None, 7, 4, 6, 5, 1, 2]\n",
            "[None, 2, 4, 6, 5, 1]\n",
            "1\n",
            "[None, 6, 4, 2, 5, 1]\n"
          ],
          "name": "stdout"
        }
      ]
    },
    {
      "cell_type": "code",
      "metadata": {
        "id": "7A0XB5H9JGV5"
      },
      "source": [
        "h = Heap(4)\r\n",
        "for i in [5,6,7,1,2]:\r\n",
        "    h.insert(i)\r\n",
        "print(h.heap_list)"
      ],
      "execution_count": null,
      "outputs": []
    },
    {
      "cell_type": "code",
      "metadata": {
        "colab": {
          "base_uri": "https://localhost:8080/"
        },
        "id": "QK8-EryGD4jZ",
        "outputId": "d9e504a8-287d-46e2-f4dd-92a6eae09e75"
      },
      "source": [
        "h = Heap(4)\r\n",
        "for i in [5,6,7,1,2]:\r\n",
        "    h.insert(i)\r\n",
        "print(h.heap_list)"
      ],
      "execution_count": 9,
      "outputs": [
        {
          "output_type": "stream",
          "text": [
            "[None, 7, 6, 5, 4, 1, 2]\n"
          ],
          "name": "stdout"
        }
      ]
    }
  ]
}